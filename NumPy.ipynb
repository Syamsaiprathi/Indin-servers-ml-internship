{
  "nbformat": 4,
  "nbformat_minor": 0,
  "metadata": {
    "colab": {
      "name": "NumPy.ipynb",
      "provenance": [],
      "collapsed_sections": []
    },
    "kernelspec": {
      "name": "python3",
      "display_name": "Python 3"
    }
  },
  "cells": [
    {
      "cell_type": "markdown",
      "metadata": {
        "id": "XZaxLQZoLo80"
      },
      "source": [
        "**Numerical Python** (NumPy)\n",
        "is used for numerical operations related to Linear algebra and calculus. "
      ]
    },
    {
      "cell_type": "markdown",
      "metadata": {
        "id": "CTL5NLQoMnK8"
      },
      "source": [
        "# Understanding Dimensionality\n"
      ]
    },
    {
      "cell_type": "markdown",
      "metadata": {
        "id": "89GJpG2ylMG9"
      },
      "source": [
        "* 1-dimensional space\n",
        "<img src='https://i.stack.imgur.com/LGBAG.png' height = 400>\n",
        "\n",
        "* 2-dimensional space\n",
        "<img src='https://raw.githubusercontent.com/rweigel/computingforscientists/master/Plotting_1D/figures/Plotting_1D_III.py.png' height = 400>\n",
        "\n",
        "* 3-dimensional space\n",
        "<img src='https://www.mathworks.com/help/examples/matlab/win64/Creating3DPlotsExample_02.png' height = 400>\n",
        "\n"
      ]
    },
    {
      "cell_type": "code",
      "metadata": {
        "id": "-mHSpck1mA-s"
      },
      "source": [
        "import numpy as np"
      ],
      "execution_count": null,
      "outputs": []
    },
    {
      "cell_type": "code",
      "metadata": {
        "id": "CH0nkAO4mAxN",
        "outputId": "100b7c70-03bc-4f0a-8e71-54ae28f14375",
        "colab": {
          "base_uri": "https://localhost:8080/"
        }
      },
      "source": [
        "l = [1,2,3]\n",
        "\n",
        "x1 = np.array(l)\n",
        "print(type(x1), x1)"
      ],
      "execution_count": null,
      "outputs": [
        {
          "output_type": "stream",
          "name": "stdout",
          "text": [
            "<class 'numpy.ndarray'> [1 2 3]\n"
          ]
        }
      ]
    },
    {
      "cell_type": "code",
      "metadata": {
        "id": "LlWIoUzFmAtj",
        "outputId": "94e9103c-3109-4269-af4c-c5786e9964d4",
        "colab": {
          "base_uri": "https://localhost:8080/"
        }
      },
      "source": [
        "print(\"Dimensionality of the numpy array:\", x1.ndim)\n",
        "print(\"Shape of the numpy array:\", x1.shape)"
      ],
      "execution_count": null,
      "outputs": [
        {
          "output_type": "stream",
          "name": "stdout",
          "text": [
            "Dimensionality of the numpy array: 1\n",
            "Shape of the numpy array: (3,)\n"
          ]
        }
      ]
    },
    {
      "cell_type": "code",
      "metadata": {
        "id": "TSmuB_0fmAop",
        "outputId": "f92e5ccc-2619-479d-9593-f249d3092a99",
        "colab": {
          "base_uri": "https://localhost:8080/"
        }
      },
      "source": [
        "x2 = np.array([[1], [2], [3]])\n",
        "# [ [1] ,[2] ,[3]  ]\n",
        "print(x2)\n",
        "print(\"Dimensionality of the numpy array:\", x2.ndim)\n",
        "print(\"Shape of the numpy array:\", x2.shape)"
      ],
      "execution_count": null,
      "outputs": [
        {
          "output_type": "stream",
          "name": "stdout",
          "text": [
            "[[1]\n",
            " [2]\n",
            " [3]]\n",
            "Dimensionality of the numpy array: 2\n",
            "Shape of the numpy array: (3, 1)\n"
          ]
        }
      ]
    },
    {
      "cell_type": "code",
      "metadata": {
        "id": "XtgUakc5REpX",
        "outputId": "c62c5fbb-7779-486a-89cc-bd6f4d2dbf6a",
        "colab": {
          "base_uri": "https://localhost:8080/"
        }
      },
      "source": [
        "import numpy as np\n",
        "x2 = np.array([[10, 9, 8], [7, 6, 5], [4, 3, 2]])\n",
        "\n",
        "resized_matrix = np.resize(x2, (6,2))\n",
        "print(resized_matrix)\n",
        "print(x2)\n",
        "print(\"Dimensionality of the numpy array:\", x2.ndim)\n",
        "print(\"Shape of the numpy array:\", x2.shape)\n",
        "print(\"Dimensionality of the numpy array:\", resized_matrix.ndim)\n",
        "print(\"Shape of the numpy array:\", resized_matrix.shape)"
      ],
      "execution_count": null,
      "outputs": [
        {
          "output_type": "stream",
          "name": "stdout",
          "text": [
            "[[10  9]\n",
            " [ 8  7]\n",
            " [ 6  5]\n",
            " [ 4  3]\n",
            " [ 2 10]\n",
            " [ 9  8]]\n",
            "[[10  9  8]\n",
            " [ 7  6  5]\n",
            " [ 4  3  2]]\n",
            "Dimensionality of the numpy array: 2\n",
            "Shape of the numpy array: (3, 3)\n",
            "Dimensionality of the numpy array: 2\n",
            "Shape of the numpy array: (6, 2)\n"
          ]
        }
      ]
    },
    {
      "cell_type": "code",
      "metadata": {
        "id": "HpLR1xauREni",
        "outputId": "d456c433-d19d-4e3a-a028-697de9a20bbb",
        "colab": {
          "base_uri": "https://localhost:8080/"
        }
      },
      "source": [
        "x3 = np.array([[[ 1,2, 10], [3, 4, 20]], [[5, 6, 30], [ 7,8, 40]]])\n",
        "#[[[ 1,2, 10], [3, 4, 20]], [[5, 6, 30], [ 7,8, 40]]])\n",
        "\n",
        "print(x3)\n",
        "print(\"Dimensionality of the numpy array:\", x3.ndim)\n",
        "print(\"Shape of the numpy array:\", x3.shape)"
      ],
      "execution_count": null,
      "outputs": [
        {
          "output_type": "stream",
          "name": "stdout",
          "text": [
            "[[[ 1  2 10]\n",
            "  [ 3  4 20]]\n",
            "\n",
            " [[ 5  6 30]\n",
            "  [ 7  8 40]]]\n",
            "Dimensionality of the numpy array: 3\n",
            "Shape of the numpy array: (2, 2, 3)\n"
          ]
        }
      ]
    },
    {
      "cell_type": "markdown",
      "metadata": {
        "id": "u97pE8MvVRSn"
      },
      "source": [
        "# Using NumPy arrays to hold datasets for your Machine Learning task"
      ]
    },
    {
      "cell_type": "markdown",
      "metadata": {
        "id": "yf7FH1mfUFQH"
      },
      "source": [
        "![alt text](https://miro.medium.com/max/1828/1*CBtaBQIg5aypyK3F4nIkWQ.png)"
      ]
    },
    {
      "cell_type": "code",
      "metadata": {
        "id": "j4-P9X-9REia",
        "outputId": "6572ecd3-cc3a-4855-a8f2-66a439945e3a",
        "colab": {
          "base_uri": "https://localhost:8080/",
          "height": 468
        }
      },
      "source": [
        "dataset_ftrs = np.array([\n",
        "                         [800, 0, 0.3048, 71.3, 0.00266337], \n",
        "                         [1000, 0, 0.3048, 71.3, 0.00266337], \n",
        "                         [1250, 0, 0.3048, 71.3, 0.00266337], \n",
        "                         [1600, 0, 0.3048, 71.3, 0.00266337], \n",
        "                         [2000, 0, 0.3048, 71.3, 0.00266337], \n",
        "                         [2500, 0, 0.3048, 71.3, 0.00266337], \n",
        "                         [3150, 0, 0.3048, 71.3, 0.00266337], \n",
        "                         [4000, 0, 0.3048, 71.3, 0.00266337], \n",
        "                         [5000, 0, 0.3048, 71.3, 0.00266337], \n",
        "                         [6300, 0, 0.3048, 71.3, 0.00266337], \n",
        "                         [8000, 0, 0.3048, 71.3, 0.00266337], \n",
        "])\n",
        "\n",
        "dataset_labels = np.array([\n",
        "                           [126.201],\n",
        "                           [125.201],\n",
        "                           [125.951],\n",
        "                           [127.591],\n",
        "                           [127.461],\n",
        "                           [125.571],\n",
        "                           [125.201],\n",
        "                           [123.061],\n",
        "                           [121.301],\n",
        "                           [119.541],\n",
        "                           [117.151],\n",
        "])\n",
        "\n",
        "# Each row => Data Item\n",
        "# Each column => Data feature\n",
        "\n",
        "print(dataset_ftrs)\n",
        "print(dataset_labels)\n",
        "\n",
        "print(\"Dimensionality of dataset's features:\", dataset_ftrs.ndim)\n",
        "print(\"Shape of dataset's features:\", dataset_ftrs.shape)\n",
        "\n",
        "print(\"Dimensionality of dataset's labels:\", dataset_labels.ndim)\n",
        "print(\"Shape of dataset's labels:\", dataset_labels.shape)"
      ],
      "execution_count": null,
      "outputs": [
        {
          "output_type": "stream",
          "text": [
            "[[8.00000e+02 0.00000e+00 3.04800e-01 7.13000e+01 2.66337e-03]\n",
            " [1.00000e+03 0.00000e+00 3.04800e-01 7.13000e+01 2.66337e-03]\n",
            " [1.25000e+03 0.00000e+00 3.04800e-01 7.13000e+01 2.66337e-03]\n",
            " [1.60000e+03 0.00000e+00 3.04800e-01 7.13000e+01 2.66337e-03]\n",
            " [2.00000e+03 0.00000e+00 3.04800e-01 7.13000e+01 2.66337e-03]\n",
            " [2.50000e+03 0.00000e+00 3.04800e-01 7.13000e+01 2.66337e-03]\n",
            " [3.15000e+03 0.00000e+00 3.04800e-01 7.13000e+01 2.66337e-03]\n",
            " [4.00000e+03 0.00000e+00 3.04800e-01 7.13000e+01 2.66337e-03]\n",
            " [5.00000e+03 0.00000e+00 3.04800e-01 7.13000e+01 2.66337e-03]\n",
            " [6.30000e+03 0.00000e+00 3.04800e-01 7.13000e+01 2.66337e-03]\n",
            " [8.00000e+03 0.00000e+00 3.04800e-01 7.13000e+01 2.66337e-03]]\n",
            "[[126.201]\n",
            " [125.201]\n",
            " [125.951]\n",
            " [127.591]\n",
            " [127.461]\n",
            " [125.571]\n",
            " [125.201]\n",
            " [123.061]\n",
            " [121.301]\n",
            " [119.541]\n",
            " [117.151]]\n",
            "Dimensionality of dataset's features: 2\n",
            "Shape of dataset's features: (11, 5)\n",
            "Dimensionality of dataset's labels: 2\n",
            "Shape of dataset's labels: (11, 1)\n"
          ],
          "name": "stdout"
        }
      ]
    },
    {
      "cell_type": "markdown",
      "metadata": {
        "id": "tvKdkAsSl2OH"
      },
      "source": [
        "# Operations on NumPy arrays"
      ]
    },
    {
      "cell_type": "code",
      "metadata": {
        "id": "FBJRvqHbmUOu",
        "outputId": "e9b7b2d8-056e-4000-bd6c-7b15e40c7527",
        "colab": {
          "base_uri": "https://localhost:8080/"
        }
      },
      "source": [
        "A = np.array([[10, 9, 8], [7, 6, 5], [4, 3, 2]])\n",
        "B = np.array([[11,22,33], [54, 12, 10], [5, 4 ,9]])\n",
        "\n",
        "print(A)\n",
        "print()\n",
        "print(B)"
      ],
      "execution_count": null,
      "outputs": [
        {
          "output_type": "stream",
          "name": "stdout",
          "text": [
            "[[10  9  8]\n",
            " [ 7  6  5]\n",
            " [ 4  3  2]]\n",
            "\n",
            "[[11 22 33]\n",
            " [54 12 10]\n",
            " [ 5  4  9]]\n"
          ]
        }
      ]
    },
    {
      "cell_type": "code",
      "metadata": {
        "id": "CnXpcj0XmUHk",
        "outputId": "a6ea603d-3632-482d-d6d2-ca7c21970787",
        "colab": {
          "base_uri": "https://localhost:8080/"
        }
      },
      "source": [
        "print(A + B) # Addition"
      ],
      "execution_count": null,
      "outputs": [
        {
          "output_type": "stream",
          "name": "stdout",
          "text": [
            "[[21 31 41]\n",
            " [61 18 15]\n",
            " [ 9  7 11]]\n"
          ]
        }
      ]
    },
    {
      "cell_type": "code",
      "metadata": {
        "id": "Stb6E2PlmUDy",
        "outputId": "e629cc7f-6358-4f90-d3b1-54495c152685",
        "colab": {
          "base_uri": "https://localhost:8080/"
        }
      },
      "source": [
        "print(A - B) # Subtraction"
      ],
      "execution_count": null,
      "outputs": [
        {
          "output_type": "stream",
          "name": "stdout",
          "text": [
            "[[ -1 -13 -25]\n",
            " [-47  -6  -5]\n",
            " [ -1  -1  -7]]\n"
          ]
        }
      ]
    },
    {
      "cell_type": "code",
      "metadata": {
        "id": "M1ljHuaWmT_1",
        "outputId": "e0909f1c-b1c5-49a0-abbc-d5ed7f6c7d45",
        "colab": {
          "base_uri": "https://localhost:8080/"
        }
      },
      "source": [
        "print(A * B) # Multiplication"
      ],
      "execution_count": null,
      "outputs": [
        {
          "output_type": "stream",
          "name": "stdout",
          "text": [
            "[[110 198 264]\n",
            " [378  72  50]\n",
            " [ 20  12  18]]\n"
          ]
        }
      ]
    },
    {
      "cell_type": "code",
      "metadata": {
        "id": "Ao3NBrixmT8J",
        "outputId": "39624835-eba2-4d8d-c686-954eb59633d2",
        "colab": {
          "base_uri": "https://localhost:8080/"
        }
      },
      "source": [
        "print(A / B) # Division"
      ],
      "execution_count": null,
      "outputs": [
        {
          "output_type": "stream",
          "name": "stdout",
          "text": [
            "[[0.90909091 0.40909091 0.24242424]\n",
            " [0.12962963 0.5        0.5       ]\n",
            " [0.8        0.75       0.22222222]]\n"
          ]
        }
      ]
    },
    {
      "cell_type": "code",
      "metadata": {
        "id": "34ysNoZvX-rL",
        "outputId": "a4a43442-aa91-43b9-ba8b-474daf9cb2b3",
        "colab": {
          "base_uri": "https://localhost:8080/"
        }
      },
      "source": [
        "print(A ^ B) # XOR "
      ],
      "execution_count": null,
      "outputs": [
        {
          "output_type": "stream",
          "name": "stdout",
          "text": [
            "[[ 1 31 41]\n",
            " [49 10 15]\n",
            " [ 1  7 11]]\n"
          ]
        }
      ]
    },
    {
      "cell_type": "code",
      "metadata": {
        "id": "KNM7y6vSX-mO",
        "outputId": "57f6babe-aff3-467f-a077-3134946fbd1f",
        "colab": {
          "base_uri": "https://localhost:8080/"
        }
      },
      "source": [
        "print(A @ B) # Matrix multiplication of A and B\n",
        "# (3,3) @ (3,3) => {3,3}\n"
      ],
      "execution_count": null,
      "outputs": [
        {
          "output_type": "stream",
          "name": "stdout",
          "text": [
            "[[636 360 492]\n",
            " [426 246 336]\n",
            " [216 132 180]]\n"
          ]
        }
      ]
    },
    {
      "cell_type": "markdown",
      "source": [
        "2*3 3*2="
      ],
      "metadata": {
        "id": "rNMW3d9TBKsh"
      }
    },
    {
      "cell_type": "code",
      "metadata": {
        "id": "VBhMItFtisFR",
        "outputId": "469a0f3a-2fff-4e10-c480-ae0a7439091f",
        "colab": {
          "base_uri": "https://localhost:8080/"
        }
      },
      "source": [
        "print(A)\n",
        "print()\n",
        "print(A.T) # Transpose of A"
      ],
      "execution_count": null,
      "outputs": [
        {
          "output_type": "stream",
          "name": "stdout",
          "text": [
            "[[10  9  8]\n",
            " [ 7  6  5]\n",
            " [ 4  3  2]]\n",
            "\n",
            "[[10  7  4]\n",
            " [ 9  6  3]\n",
            " [ 8  5  2]]\n"
          ]
        }
      ]
    },
    {
      "cell_type": "code",
      "metadata": {
        "id": "Urmyd7QtisA3",
        "outputId": "0fef0f1c-ad9b-4543-9aeb-d0860606e6fb",
        "colab": {
          "base_uri": "https://localhost:8080/"
        }
      },
      "source": [
        "X = np.array([[1, 2, 3]]) # Row matrix\n",
        "\n",
        "print(X, X.shape, '\\n')\n",
        "\n",
        "X_trans = X.T\n",
        "print(X_trans, X_trans.shape) # Column matrix"
      ],
      "execution_count": null,
      "outputs": [
        {
          "output_type": "stream",
          "name": "stdout",
          "text": [
            "[[1 2 3]] (1, 3) \n",
            "\n",
            "[[1]\n",
            " [2]\n",
            " [3]] (3, 1)\n"
          ]
        }
      ]
    },
    {
      "cell_type": "code",
      "metadata": {
        "id": "AM28MIAsjFg2",
        "outputId": "4d5b9e89-0355-4a4d-b2ce-49c90dcba1d9",
        "colab": {
          "base_uri": "https://localhost:8080/"
        }
      },
      "source": [
        "print(A)\n",
        "print()\n",
        "print(A.ravel())"
      ],
      "execution_count": null,
      "outputs": [
        {
          "output_type": "stream",
          "name": "stdout",
          "text": [
            "[[10  9  8]\n",
            " [ 7  6  5]\n",
            " [ 4  3  2]]\n",
            "\n",
            "[10  9  8  7  6  5  4  3  2]\n"
          ]
        }
      ]
    },
    {
      "cell_type": "code",
      "metadata": {
        "id": "nUQt65c8jpDd",
        "outputId": "4b3b55c4-96b4-48bc-d968-9e91b8b6f064",
        "colab": {
          "base_uri": "https://localhost:8080/"
        }
      },
      "source": [
        "print(A, A.shape)\n",
        "print()\n",
        "print(X, X.shape)\n",
        "print()\n",
        "\n",
        "vert_stacked = np.vstack((A, X, X))\n",
        "print(vert_stacked)"
      ],
      "execution_count": null,
      "outputs": [
        {
          "output_type": "stream",
          "name": "stdout",
          "text": [
            "[[10  9  8]\n",
            " [ 7  6  5]\n",
            " [ 4  3  2]] (3, 3)\n",
            "\n",
            "[[1 2 3]] (1, 3)\n",
            "\n",
            "[[10  9  8]\n",
            " [ 7  6  5]\n",
            " [ 4  3  2]\n",
            " [ 1  2  3]\n",
            " [ 1  2  3]]\n"
          ]
        }
      ]
    },
    {
      "cell_type": "code",
      "metadata": {
        "id": "sFcpjMDKjpAs",
        "outputId": "a46ee22d-65c5-4307-b08e-dbcb1d193b37",
        "colab": {
          "base_uri": "https://localhost:8080/"
        }
      },
      "source": [
        "print(A, A.shape)\n",
        "print()\n",
        "print(X_trans, X_trans.shape)\n",
        "print()\n",
        "\n",
        "hrztl_stacked = np.hstack((A, X_trans))\n",
        "print(hrztl_stacked)"
      ],
      "execution_count": null,
      "outputs": [
        {
          "output_type": "stream",
          "name": "stdout",
          "text": [
            "[[10  9  8]\n",
            " [ 7  6  5]\n",
            " [ 4  3  2]] (3, 3)\n",
            "\n",
            "[[1]\n",
            " [2]\n",
            " [3]] (3, 1)\n",
            "\n",
            "[[10  9  8  1]\n",
            " [ 7  6  5  2]\n",
            " [ 4  3  2  3]]\n"
          ]
        }
      ]
    },
    {
      "cell_type": "code",
      "metadata": {
        "id": "i7I8dAeYnW2m",
        "outputId": "33f875bd-0541-4dfe-a810-d7fc179a55d1",
        "colab": {
          "base_uri": "https://localhost:8080/"
        }
      },
      "source": [
        "print(hrztl_stacked, hrztl_stacked.shape)\n",
        "print()\n",
        "\n",
        "resized_matrix = np.resize(hrztl_stacked, (6,2))\n",
        "print(resized_matrix, resized_matrix.shape)\n",
        "print()\n",
        "\n",
        "resized_matrix = np.resize(hrztl_stacked, (12, 1))\n",
        "print(resized_matrix, resized_matrix.shape)"
      ],
      "execution_count": null,
      "outputs": [
        {
          "output_type": "stream",
          "name": "stdout",
          "text": [
            "[[10  9  8  1]\n",
            " [ 7  6  5  2]\n",
            " [ 4  3  2  3]] (3, 4)\n",
            "\n",
            "[[10  9]\n",
            " [ 8  1]\n",
            " [ 7  6]\n",
            " [ 5  2]\n",
            " [ 4  3]\n",
            " [ 2  3]] (6, 2)\n",
            "\n",
            "[[10]\n",
            " [ 9]\n",
            " [ 8]\n",
            " [ 1]\n",
            " [ 7]\n",
            " [ 6]\n",
            " [ 5]\n",
            " [ 2]\n",
            " [ 4]\n",
            " [ 3]\n",
            " [ 2]\n",
            " [ 3]] (12, 1)\n"
          ]
        }
      ]
    },
    {
      "cell_type": "code",
      "metadata": {
        "id": "Yszcgc-VnWyX",
        "outputId": "f275f892-56ef-41a2-d462-5517674836b5",
        "colab": {
          "base_uri": "https://localhost:8080/"
        }
      },
      "source": [
        "print(np.linalg.det(B)) # Determinant of matrix B"
      ],
      "execution_count": null,
      "outputs": [
        {
          "output_type": "stream",
          "name": "stdout",
          "text": [
            "-3696.0\n"
          ]
        }
      ]
    },
    {
      "cell_type": "code",
      "metadata": {
        "id": "qmJRflCYjo92",
        "outputId": "708c43f9-d9c9-4cb5-fea6-427a4504ff7d",
        "colab": {
          "base_uri": "https://localhost:8080/"
        }
      },
      "source": [
        "print(B)\n",
        "print()\n",
        "\n",
        "B_inv = np.linalg.inv(B)\n",
        "print(B_inv)\n",
        "print()\n",
        "\n",
        "print((B_inv @ B).round(0))"
      ],
      "execution_count": null,
      "outputs": [
        {
          "output_type": "stream",
          "name": "stdout",
          "text": [
            "[[11 22 33]\n",
            " [54 12 10]\n",
            " [ 5  4  9]]\n",
            "\n",
            "[[-0.01839827  0.01785714  0.04761905]\n",
            " [ 0.11796537  0.01785714 -0.45238095]\n",
            " [-0.04220779 -0.01785714  0.28571429]]\n",
            "\n",
            "[[ 1.  0.  0.]\n",
            " [-0.  1. -0.]\n",
            " [ 0.  0.  1.]]\n"
          ]
        }
      ]
    },
    {
      "cell_type": "code",
      "metadata": {
        "id": "uEnFfgEJjo5y",
        "outputId": "611a0872-c627-4965-8527-5df3e669dbde",
        "colab": {
          "base_uri": "https://localhost:8080/"
        }
      },
      "source": [
        "print(np.log(B), '\\n')\n",
        "print(np.sin(B), '\\n')\n",
        "print(np.tan(B), '\\n')\n",
        "print(np.exp(B), '\\n')"
      ],
      "execution_count": null,
      "outputs": [
        {
          "output_type": "stream",
          "name": "stdout",
          "text": [
            "[[2.39789527 3.09104245 3.49650756]\n",
            " [3.98898405 2.48490665 2.30258509]\n",
            " [1.60943791 1.38629436 2.19722458]] \n",
            "\n",
            "[[-0.99999021 -0.00885131  0.99991186]\n",
            " [-0.55878905 -0.53657292 -0.54402111]\n",
            " [-0.95892427 -0.7568025   0.41211849]] \n",
            "\n",
            "[[-2.25950846e+02  8.85165604e-03 -7.53130148e+01]\n",
            " [ 6.73800101e-01 -6.35859929e-01  6.48360827e-01]\n",
            " [-3.38051501e+00  1.15782128e+00 -4.52315659e-01]] \n",
            "\n",
            "[[5.98741417e+04 3.58491285e+09 2.14643580e+14]\n",
            " [2.83075330e+23 1.62754791e+05 2.20264658e+04]\n",
            " [1.48413159e+02 5.45981500e+01 8.10308393e+03]] \n",
            "\n"
          ]
        }
      ]
    },
    {
      "cell_type": "code",
      "metadata": {
        "id": "mdkp08YEwKdD",
        "outputId": "cf76f05d-9994-436e-c2a7-a9002aee8202",
        "colab": {
          "base_uri": "https://localhost:8080/"
        }
      },
      "source": [
        "print(A, A.shape, '\\n')\n",
        "\n",
        "print(\"Sum:\")\n",
        "print(A.sum())\n",
        "print(A.sum(axis=0)) # (0,Column)\n",
        "print(A.sum(axis=1)) # (Row, 1)\n",
        "\n",
        "print(\"\\nMax:\")\n",
        "print(A.max())\n",
        "print(A.max(axis=0))\n",
        "print(A.max(axis=1))\n",
        "\n",
        "print(\"\\nMin:\")\n",
        "print(A.min())\n",
        "print(A.min(axis=0))\n",
        "print(A.min(axis=1))"
      ],
      "execution_count": null,
      "outputs": [
        {
          "output_type": "stream",
          "name": "stdout",
          "text": [
            "[[10  9  8]\n",
            " [ 7  6  5]\n",
            " [ 4  3  2]] (3, 3) \n",
            "\n",
            "Sum:\n",
            "54\n",
            "[21 18 15]\n",
            "[27 18  9]\n",
            "\n",
            "Max:\n",
            "10\n",
            "[10  9  8]\n",
            "[10  7  4]\n",
            "\n",
            "Min:\n",
            "2\n",
            "[4 3 2]\n",
            "[8 5 2]\n"
          ]
        }
      ]
    },
    {
      "cell_type": "markdown",
      "metadata": {
        "id": "1lXWhmlFhDng"
      },
      "source": [
        "# Vector Products\n",
        "\n",
        "Vectors are basically [Tensors](https://www.youtube.com/watch?v=f5liqUk0ZTw) of rank 1"
      ]
    },
    {
      "cell_type": "code",
      "metadata": {
        "id": "kd4OtQs0X-hV",
        "outputId": "880b210d-04bd-40ed-bbe0-341f14c65de9",
        "colab": {
          "base_uri": "https://localhost:8080/",
          "height": 139
        }
      },
      "source": [
        "x1 = np.array([[1], [2], [3]]) # Column Matrix\n",
        "x2 = np.array([[4, 5, 6]]) # Row Matrix\n",
        "\n",
        "print(x1, '\\n')\n",
        "print(x2, '\\n')\n",
        "print(x1.shape, x2.shape)"
      ],
      "execution_count": null,
      "outputs": [
        {
          "output_type": "stream",
          "text": [
            "[[1]\n",
            " [2]\n",
            " [3]] \n",
            "\n",
            "[[4 5 6]] \n",
            "\n",
            "(3, 1) (1, 3)\n"
          ],
          "name": "stdout"
        }
      ]
    },
    {
      "cell_type": "markdown",
      "metadata": {
        "id": "LvZXh5SkhppF"
      },
      "source": [
        "## Vector Outer product \n",
        "---\n",
        "\n",
        "`Consider the following column matrices (or) vectors`\n",
        "\n",
        "\n",
        "$\\vec{X} = \\begin{pmatrix} x_1\\\\ x_2\\\\ x_3 \\end{pmatrix}$\n",
        "\n",
        "\n",
        "$\\vec{Y} = \\begin{pmatrix} y_1\\\\ y_2\\\\ y_3 \\end{pmatrix}$\n",
        "\n",
        "$\\vec{X} \\vec{Y}^T = \\begin{pmatrix} x_1\\\\ x_2\\\\ x_3 \\end{pmatrix}\\begin{pmatrix} y_1 & y_2 & y_3 \\end{pmatrix}  = \\begin{pmatrix} x_1y_1 & x_1y_2 & x_1y_3 \\\\ x_2y_1 & x_2y_2 & x_2y_3 \\\\ x_3y_1 & x_3y_2 & x_3y_3 \\end{pmatrix}$"
      ]
    },
    {
      "cell_type": "code",
      "metadata": {
        "id": "XWDRHPkfX-Zl",
        "outputId": "a4f3b725-d673-4be0-cbcc-80ce1b8da281",
        "colab": {
          "base_uri": "https://localhost:8080/",
          "height": 35
        }
      },
      "source": [
        "# Vector Outer Product\n",
        "\n",
        "print(x1 @ x2) # np array of shape (3, 3)\n",
        "# (3, 1) @ (1, 3) = (3,3)"
      ],
      "execution_count": null,
      "outputs": [
        {
          "output_type": "stream",
          "text": [
            "[36 30 24]\n"
          ],
          "name": "stdout"
        }
      ]
    },
    {
      "cell_type": "markdown",
      "metadata": {
        "id": "iLyufqIna35b"
      },
      "source": [
        "## Vector Inner product (or) Dot product between two vectors\n",
        "---\n",
        "\n",
        "`Consider the following column matrices (or) vectors`\n",
        "\n",
        "\n",
        "$\\vec{X} = \\begin{pmatrix} x_1\\\\ x_2\\\\ x_3 \\end{pmatrix}$\n",
        "\n",
        "\n",
        "$\\vec{Y} = \\begin{pmatrix} y_1\\\\ y_2\\\\ y_3 \\end{pmatrix}$\n",
        "\n",
        "$\\vec{X} \\cdot \\vec{Y} = x_1y_1 + x_2y_2  + x_3y_3$\n",
        "\n",
        "`Formula for dot product in vector algebra` \n",
        "\n",
        "$\\vec{X}^T \\vec{Y} = \\begin{pmatrix} x_1 & x_2 & x_3 \\end{pmatrix}\\begin{pmatrix} y_1\\\\ y_2\\\\ y_3 \\end{pmatrix} $"
      ]
    },
    {
      "cell_type": "code",
      "metadata": {
        "id": "VGMl2FyGX-P6",
        "outputId": "ed179e46-ecce-41da-d420-9b294ec182d5",
        "colab": {
          "base_uri": "https://localhost:8080/",
          "height": 35
        }
      },
      "source": [
        "# Vector Inner Product (or) Dot product of two vectors\n",
        "\n",
        "print(x2 @ x1) # np array of shape (1, 1)\n",
        "# (1, 3) @ (3, 1)"
      ],
      "execution_count": null,
      "outputs": [
        {
          "output_type": "stream",
          "text": [
            "[52 34 16]\n"
          ],
          "name": "stdout"
        }
      ]
    },
    {
      "cell_type": "markdown",
      "metadata": {
        "id": "1_eYrZaVl2FA"
      },
      "source": [
        "# Broadcasting in NumPy\n",
        "![alt text](https://jakevdp.github.io/PythonDataScienceHandbook/figures/02.05-broadcasting.png)"
      ]
    },
    {
      "cell_type": "code",
      "metadata": {
        "id": "ax_Pm6jxmVWg",
        "outputId": "1bc73498-e280-4181-d7aa-f432c6151a9b",
        "colab": {
          "base_uri": "https://localhost:8080/"
        }
      },
      "source": [
        "A = np.array([[1, 2, 3], [4, 5, 6], [7, 8, 9]])\n",
        "X = np.array([[1, 1, 1]])\n",
        "Y = np.array([[2], [2], [2]])\n",
        "\n",
        "print(A, A.shape, '\\n')\n",
        "print(X, X.shape, '\\n')\n",
        "print(Y, Y.shape, '\\n')"
      ],
      "execution_count": null,
      "outputs": [
        {
          "output_type": "stream",
          "name": "stdout",
          "text": [
            "[[1 2 3]\n",
            " [4 5 6]\n",
            " [7 8 9]] (3, 3) \n",
            "\n",
            "[[1 1 1]] (1, 3) \n",
            "\n",
            "[[2]\n",
            " [2]\n",
            " [2]] (3, 1) \n",
            "\n"
          ]
        }
      ]
    },
    {
      "cell_type": "code",
      "metadata": {
        "id": "kcvz8qXpmVSN",
        "outputId": "e69d6ca3-ad82-4393-962c-23895bc92efa",
        "colab": {
          "base_uri": "https://localhost:8080/"
        }
      },
      "source": [
        "print(A + 10)"
      ],
      "execution_count": null,
      "outputs": [
        {
          "output_type": "stream",
          "name": "stdout",
          "text": [
            "[[11 12 13]\n",
            " [14 15 16]\n",
            " [17 18 19]]\n"
          ]
        }
      ]
    },
    {
      "cell_type": "code",
      "metadata": {
        "id": "n_5HdWvlmVPT",
        "outputId": "8327f1de-01c6-4580-e747-f7d26149b760",
        "colab": {
          "base_uri": "https://localhost:8080/",
          "height": 69
        }
      },
      "source": [
        "print(A + X)"
      ],
      "execution_count": null,
      "outputs": [
        {
          "output_type": "stream",
          "text": [
            "[[ 2  3  4]\n",
            " [ 5  6  7]\n",
            " [ 8  9 10]]\n"
          ],
          "name": "stdout"
        }
      ]
    },
    {
      "cell_type": "code",
      "metadata": {
        "id": "tEhKCStNmVL4",
        "outputId": "d0ebb9d4-61ed-48e3-e4f0-fdcec5153e02",
        "colab": {
          "base_uri": "https://localhost:8080/",
          "height": 69
        }
      },
      "source": [
        "print(A + Y)"
      ],
      "execution_count": null,
      "outputs": [
        {
          "output_type": "stream",
          "text": [
            "[[ 3  4  5]\n",
            " [ 6  7  8]\n",
            " [ 9 10 11]]\n"
          ],
          "name": "stdout"
        }
      ]
    },
    {
      "cell_type": "code",
      "metadata": {
        "id": "rbHYnPcMmVJL",
        "outputId": "bb5ee410-b10c-4ae4-a94d-ddfc76f8c55d",
        "colab": {
          "base_uri": "https://localhost:8080/"
        }
      },
      "source": [
        "print(X + Y)"
      ],
      "execution_count": null,
      "outputs": [
        {
          "output_type": "stream",
          "name": "stdout",
          "text": [
            "[[3 3 3]\n",
            " [3 3 3]\n",
            " [3 3 3]]\n"
          ]
        }
      ]
    },
    {
      "cell_type": "markdown",
      "metadata": {
        "id": "GPzYo4-Rl15-"
      },
      "source": [
        "# Other np methods"
      ]
    },
    {
      "cell_type": "code",
      "metadata": {
        "id": "B6Ki-FZ1mWMe",
        "outputId": "9e814a2a-9766-4faf-9290-c906e0c361fd",
        "colab": {
          "base_uri": "https://localhost:8080/"
        }
      },
      "source": [
        "A = np.arange(10)\n",
        "print(A)\n",
        "\n",
        "print(np.resize(A, (3,3)))"
      ],
      "execution_count": null,
      "outputs": [
        {
          "output_type": "stream",
          "name": "stdout",
          "text": [
            "[0 1 2 3 4 5 6 7 8 9]\n",
            "[[0 1 2]\n",
            " [3 4 5]\n",
            " [6 7 8]]\n"
          ]
        }
      ]
    },
    {
      "cell_type": "code",
      "metadata": {
        "id": "Ohpc_al6mWI4",
        "outputId": "8475db21-8566-4013-d70a-9a9aed6d843d",
        "colab": {
          "base_uri": "https://localhost:8080/"
        }
      },
      "source": [
        "A = np.zeros((2,4))\n",
        "print(A)"
      ],
      "execution_count": null,
      "outputs": [
        {
          "output_type": "stream",
          "name": "stdout",
          "text": [
            "[[0. 0. 0. 0.]\n",
            " [0. 0. 0. 0.]]\n"
          ]
        }
      ]
    },
    {
      "cell_type": "code",
      "metadata": {
        "id": "Bbi0SWb0mWGT",
        "outputId": "2b72c831-bc65-4c83-b6b8-da6fe6045ae4",
        "colab": {
          "base_uri": "https://localhost:8080/"
        }
      },
      "source": [
        "A = np.ones((2,4))\n",
        "print(A)"
      ],
      "execution_count": null,
      "outputs": [
        {
          "output_type": "stream",
          "name": "stdout",
          "text": [
            "[[1. 1. 1. 1.]\n",
            " [1. 1. 1. 1.]]\n"
          ]
        }
      ]
    },
    {
      "cell_type": "code",
      "metadata": {
        "id": "NPjXV20YmWD5",
        "outputId": "c53fb244-535b-43db-a9bc-b1a7c071f14d",
        "colab": {
          "base_uri": "https://localhost:8080/"
        }
      },
      "source": [
        "I = np.eye(5)\n",
        "print(I)"
      ],
      "execution_count": null,
      "outputs": [
        {
          "output_type": "stream",
          "name": "stdout",
          "text": [
            "[[1. 0. 0. 0. 0.]\n",
            " [0. 1. 0. 0. 0.]\n",
            " [0. 0. 1. 0. 0.]\n",
            " [0. 0. 0. 1. 0.]\n",
            " [0. 0. 0. 0. 1.]]\n"
          ]
        }
      ]
    },
    {
      "cell_type": "code",
      "metadata": {
        "id": "cRRiYKHHy9zs",
        "outputId": "b18c6d18-974b-4b05-c351-639cbb19a742",
        "colab": {
          "base_uri": "https://localhost:8080/"
        }
      },
      "source": [
        "A = np.random.random((2,2)) # 0-1\n",
        "print(A)"
      ],
      "execution_count": null,
      "outputs": [
        {
          "output_type": "stream",
          "name": "stdout",
          "text": [
            "[[0.0111457  0.70934242]\n",
            " [0.39524105 0.60398139]]\n"
          ]
        }
      ]
    },
    {
      "cell_type": "markdown",
      "metadata": {
        "id": "21-PpzZrmRvE"
      },
      "source": [
        "# References\n",
        "*  [**What is a Tensor {important}**](https://www.youtube.com/watch?v=f5liqUk0ZTw)\n",
        "*  [Video on vector products](https://www.youtube.com/watch?v=FCmH4MqbFGs)\n",
        "*  [NumPy Documentation](https://numpy.org/)\n",
        "*  [NumPy Tutorial by `Justin Johnson`](http://cs231n.github.io/python-numpy-tutorial/#numpy)\n",
        "*  [Essence of Linear Algebra](https://www.youtube.com/playlist?list=PLZHQObOWTQDPD3MizzM2xVFitgF8hE_ab)  \n"
      ]
    }
  ]
}