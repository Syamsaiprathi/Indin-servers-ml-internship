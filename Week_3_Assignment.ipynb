{
  "nbformat": 4,
  "nbformat_minor": 0,
  "metadata": {
    "colab": {
      "name": "Week 3 Assignment.ipynb",
      "provenance": []
    },
    "kernelspec": {
      "name": "python3",
      "display_name": "Python 3"
    }
  },
  "cells": [
    {
      "cell_type": "code",
      "metadata": {
        "id": "2s591mNAA0qn"
      },
      "source": [
        "import numpy as np\n",
        "import pandas as pd\n",
        "import matplotlib.pyplot as plt\n",
        "import seaborn as sns\n",
        "\n",
        "import sklearn\n",
        "from sklearn import linear_model\n",
        "from sklearn.preprocessing import PolynomialFeatures\n",
        "from sklearn.datasets import make_regression\n",
        "from sklearn.metrics import mean_squared_error\n",
        "\n",
        "import warnings\n",
        "\n",
        "plt.rcParams['figure.figsize'] = (10,6)\n",
        "\n",
        "warnings.filterwarnings('ignore')\n",
        "sns.set()"
      ],
      "execution_count": null,
      "outputs": []
    },
    {
      "cell_type": "markdown",
      "metadata": {
        "id": "gQYVMDZHA2EM"
      },
      "source": [
        "**Mean** **Squared** **Error** (MSE)\n"
      ]
    },
    {
      "cell_type": "code",
      "metadata": {
        "id": "UNxfYW7OB1RR",
        "colab": {
          "base_uri": "https://localhost:8080/"
        },
        "outputId": "7a4b0c69-e08e-41d9-e3f1-f78696e2bb59"
      },
      "source": [
        "x = np.expand_dims(np.linspace(5,16, 10), axis=1)\n",
        "y = np.expand_dims(np.array([1.5, 2.6, 3., 4.5, 5.1, 5.3, 5.4, 5.6, 5.6, 5.9]), axis=1)\n",
        "\n",
        "print('x:', x)\n",
        "print('y:', y)"
      ],
      "execution_count": null,
      "outputs": [
        {
          "output_type": "stream",
          "name": "stdout",
          "text": [
            "x: [[ 5.        ]\n",
            " [ 6.22222222]\n",
            " [ 7.44444444]\n",
            " [ 8.66666667]\n",
            " [ 9.88888889]\n",
            " [11.11111111]\n",
            " [12.33333333]\n",
            " [13.55555556]\n",
            " [14.77777778]\n",
            " [16.        ]]\n",
            "y: [[1.5]\n",
            " [2.6]\n",
            " [3. ]\n",
            " [4.5]\n",
            " [5.1]\n",
            " [5.3]\n",
            " [5.4]\n",
            " [5.6]\n",
            " [5.6]\n",
            " [5.9]]\n"
          ]
        }
      ]
    },
    {
      "cell_type": "code",
      "metadata": {
        "id": "ZupkMrhAKky4",
        "colab": {
          "base_uri": "https://localhost:8080/"
        },
        "outputId": "302cd419-8e01-4078-c6fe-ddcb4290b06f"
      },
      "source": [
        "poly = PolynomialFeatures(degree=2)\n",
        "x_trans = poly.fit_transform(x)\n",
        "\n",
        "lr = linear_model.LinearRegression()\n",
        "lr.fit(x_trans, y)\n",
        "print(lr.coef_)\n",
        "print(lr.intercept_)"
      ],
      "execution_count": null,
      "outputs": [
        {
          "output_type": "stream",
          "name": "stdout",
          "text": [
            "[[ 0.          1.39640308 -0.04843163]]\n",
            "[-4.2757701]\n"
          ]
        }
      ]
    },
    {
      "cell_type": "code",
      "metadata": {
        "id": "VoGhpdK1LEVx",
        "colab": {
          "base_uri": "https://localhost:8080/",
          "height": 394
        },
        "outputId": "cc8f08a6-fa3a-4b40-c4c4-3f216235b1aa"
      },
      "source": [
        "plt.plot(x, y, '*', label='Data')\n",
        "plt.plot(x, lr.predict(x_trans), label='Model')\n",
        "\n",
        "plt.legend()\n",
        "plt.xlabel('Inputs (x)')\n",
        "plt.ylabel('Outputs (y)')\n",
        "\n",
        "plt.show()"
      ],
      "execution_count": null,
      "outputs": [
        {
          "output_type": "display_data",
          "data": {
            "text/plain": [
              "<Figure size 720x432 with 1 Axes>"
            ],
            "image/png": "[encoded data removed]"
          },
          "metadata": {}
        }
      ]
    },
    {
      "cell_type": "code",
      "metadata": {
        "id": "DpoRyXi6Nykf",
        "colab": {
          "base_uri": "https://localhost:8080/"
        },
        "outputId": "04760a6c-2ef8-4cbf-e594-ad848939af67"
      },
      "source": [
        "a, b, c = -0.04843163, 1.39640308, -4.2757701 \n",
        "\n",
        "y_hat = a * x**2 + b * x + c\n",
        "\n",
        "print(np.sum((y_hat - y) ** 2) / 10)"
      ],
      "execution_count": null,
      "outputs": [
        {
          "output_type": "stream",
          "name": "stdout",
          "text": [
            "52.88937559209246\n"
          ]
        }
      ]
    },
    {
      "cell_type": "markdown",
      "metadata": {
        "id": "X7h7pMnQw5ed"
      },
      "source": [
        "# Section 2 cross entropy\n"
      ]
    },
    {
      "cell_type": "code",
      "metadata": {
        "id": "KENlFKtoX7wi"
      },
      "source": [
        "x = np.array([[0.77330069, 0.41045362, 0.11336399],\n",
        " [0.33767255, 0.84421107, 0.41008781],\n",
        " [0.96718145, 0.0899926,  0.07174224],\n",
        " [0.02052135, 0.77886221, 0.70268842],\n",
        " [0.64919759, 0.30145436, 0.04102113],\n",
        " [0.68973698, 0.58821819, 0.10546255],\n",
        " [0.29698513, 0.43547422, 0.28529975],\n",
        " [0.2968849,  0.61283841, 0.63136324],\n",
        " [0.32357182, 0.13638021, 0.90788238],\n",
        " [0.89679202, 0.97985175, 0.11401821]])\n",
        "y = np.array([[0],\n",
        " [0],\n",
        " [0],\n",
        " [1],\n",
        " [1],\n",
        " [1],\n",
        " [0],\n",
        " [1],\n",
        " [1],\n",
        " [0]])\n",
        "y_hat = np.array([[0.57999228],\n",
        " [0.15335178],\n",
        " [0.36948967],\n",
        " [0.89590253],\n",
        " [0.24150758],\n",
        " [0.1124793 ],\n",
        " [0.85542546],\n",
        " [0.80923389],\n",
        " [0.54269061],\n",
        " [0.78269714]])"
      ],
      "execution_count": null,
      "outputs": []
    },
    {
      "cell_type": "code",
      "metadata": {
        "id": "ZcVk_x0oZcpM",
        "colab": {
          "base_uri": "https://localhost:8080/",
          "height": 363
        },
        "outputId": "c401dc05-90ad-4d0e-dae7-a5b5df17aa89"
      },
      "source": [
        "data = pd.DataFrame({'x1': x[:, 0], 'x2': x[:, 1], 'x3': x[:, 2], 'y': y[:,0]})\n",
        "data"
      ],
      "execution_count": null,
      "outputs": [
        {
          "output_type": "execute_result",
          "data": {
            "text/plain": [
              "         x1        x2        x3  y\n",
              "0  0.773301  0.410454  0.113364  0\n",
              "1  0.337673  0.844211  0.410088  0\n",
              "2  0.967181  0.089993  0.071742  0\n",
              "3  0.020521  0.778862  0.702688  1\n",
              "4  0.649198  0.301454  0.041021  1\n",
              "5  0.689737  0.588218  0.105463  1\n",
              "6  0.296985  0.435474  0.285300  0\n",
              "7  0.296885  0.612838  0.631363  1\n",
              "8  0.323572  0.136380  0.907882  1\n",
              "9  0.896792  0.979852  0.114018  0"
            ],
            "text/html": [
              "\n",
              "  <div id=\"df-a553fbd9-db12-4393-afbb-8676b03552d4\">\n",
              "    <div class=\"colab-df-container\">\n",
              "      <div>\n",
              "<style scoped>\n",
              "    .dataframe tbody tr th:only-of-type {\n",
              "        vertical-align: middle;\n",
              "    }\n",
              "\n",
              "    .dataframe tbody tr th {\n",
              "        vertical-align: top;\n",
              "    }\n",
              "\n",
              "    .dataframe thead th {\n",
              "        text-align: right;\n",
              "    }\n",
              "</style>\n",
              "<table border=\"1\" class=\"dataframe\">\n",
              "  <thead>\n",
              "    <tr style=\"text-align: right;\">\n",
              "      <th></th>\n",
              "      <th>x1</th>\n",
              "      <th>x2</th>\n",
              "      <th>x3</th>\n",
              "      <th>y</th>\n",
              "    </tr>\n",
              "  </thead>\n",
              "  <tbody>\n",
              "    <tr>\n",
              "      <th>0</th>\n",
              "      <td>0.773301</td>\n",
              "      <td>0.410454</td>\n",
              "      <td>0.113364</td>\n",
              "      <td>0</td>\n",
              "    </tr>\n",
              "    <tr>\n",
              "      <th>1</th>\n",
              "      <td>0.337673</td>\n",
              "      <td>0.844211</td>\n",
              "      <td>0.410088</td>\n",
              "      <td>0</td>\n",
              "    </tr>\n",
              "    <tr>\n",
              "      <th>2</th>\n",
              "      <td>0.967181</td>\n",
              "      <td>0.089993</td>\n",
              "      <td>0.071742</td>\n",
              "      <td>0</td>\n",
              "    </tr>\n",
              "    <tr>\n",
              "      <th>3</th>\n",
              "      <td>0.020521</td>\n",
              "      <td>0.778862</td>\n",
              "      <td>0.702688</td>\n",
              "      <td>1</td>\n",
              "    </tr>\n",
              "    <tr>\n",
              "      <th>4</th>\n",
              "      <td>0.649198</td>\n",
              "      <td>0.301454</td>\n",
              "      <td>0.041021</td>\n",
              "      <td>1</td>\n",
              "    </tr>\n",
              "    <tr>\n",
              "      <th>5</th>\n",
              "      <td>0.689737</td>\n",
              "      <td>0.588218</td>\n",
              "      <td>0.105463</td>\n",
              "      <td>1</td>\n",
              "    </tr>\n",
              "    <tr>\n",
              "      <th>6</th>\n",
              "      <td>0.296985</td>\n",
              "      <td>0.435474</td>\n",
              "      <td>0.285300</td>\n",
              "      <td>0</td>\n",
              "    </tr>\n",
              "    <tr>\n",
              "      <th>7</th>\n",
              "      <td>0.296885</td>\n",
              "      <td>0.612838</td>\n",
              "      <td>0.631363</td>\n",
              "      <td>1</td>\n",
              "    </tr>\n",
              "    <tr>\n",
              "      <th>8</th>\n",
              "      <td>0.323572</td>\n",
              "      <td>0.136380</td>\n",
              "      <td>0.907882</td>\n",
              "      <td>1</td>\n",
              "    </tr>\n",
              "    <tr>\n",
              "      <th>9</th>\n",
              "      <td>0.896792</td>\n",
              "      <td>0.979852</td>\n",
              "      <td>0.114018</td>\n",
              "      <td>0</td>\n",
              "    </tr>\n",
              "  </tbody>\n",
              "</table>\n",
              "</div>\n",
              "      <button class=\"colab-df-convert\" onclick=\"convertToInteractive('df-a553fbd9-db12-4393-afbb-8676b03552d4')\"\n",
              "              title=\"Convert this dataframe to an interactive table.\"\n",
              "              style=\"display:none;\">\n",
              "        \n",
              "  <svg xmlns=\"http://www.w3.org/2000/svg\" height=\"24px\"viewBox=\"0 0 24 24\"\n",
              "       width=\"24px\">\n",
              "    <path d=\"M0 0h24v24H0V0z\" fill=\"none\"/>\n",
              "    <path d=\"M18.56 5.44l.94 2.06.94-2.06 2.06-.94-2.06-.94-.94-2.06-.94 2.06-2.06.94zm-11 1L8.5 8.5l.94-2.06 2.06-.94-2.06-.94L8.5 2.5l-.94 2.06-2.06.94zm10 10l.94 2.06.94-2.06 2.06-.94-2.06-.94-.94-2.06-.94 2.06-2.06.94z\"/><path d=\"M17.41 7.96l-1.37-1.37c-.4-.4-.92-.59-1.43-.59-.52 0-1.04.2-1.43.59L10.3 9.45l-7.72 7.72c-.78.78-.78 2.05 0 2.83L4 21.41c.39.39.9.59 1.41.59.51 0 1.02-.2 1.41-.59l7.78-7.78 2.81-2.81c.8-.78.8-2.07 0-2.86zM5.41 20L4 18.59l7.72-7.72 1.47 1.35L5.41 20z\"/>\n",
              "  </svg>\n",
              "      </button>\n",
              "      \n",
              "  <style>\n",
              "    .colab-df-container {\n",
              "      display:flex;\n",
              "      flex-wrap:wrap;\n",
              "      gap: 12px;\n",
              "    }\n",
              "\n",
              "    .colab-df-convert {\n",
              "      background-color: #E8F0FE;\n",
              "      border: none;\n",
              "      border-radius: 50%;\n",
              "      cursor: pointer;\n",
              "      display: none;\n",
              "      fill: #1967D2;\n",
              "      height: 32px;\n",
              "      padding: 0 0 0 0;\n",
              "      width: 32px;\n",
              "    }\n",
              "\n",
              "    .colab-df-convert:hover {\n",
              "      background-color: #E2EBFA;\n",
              "      box-shadow: 0px 1px 2px rgba(60, 64, 67, 0.3), 0px 1px 3px 1px rgba(60, 64, 67, 0.15);\n",
              "      fill: #174EA6;\n",
              "    }\n",
              "\n",
              "    [theme=dark] .colab-df-convert {\n",
              "      background-color: #3B4455;\n",
              "      fill: #D2E3FC;\n",
              "    }\n",
              "\n",
              "    [theme=dark] .colab-df-convert:hover {\n",
              "      background-color: #434B5C;\n",
              "      box-shadow: 0px 1px 3px 1px rgba(0, 0, 0, 0.15);\n",
              "      filter: drop-shadow(0px 1px 2px rgba(0, 0, 0, 0.3));\n",
              "      fill: #FFFFFF;\n",
              "    }\n",
              "  </style>\n",
              "\n",
              "      <script>\n",
              "        const buttonEl =\n",
              "          document.querySelector('#df-a553fbd9-db12-4393-afbb-8676b03552d4 button.colab-df-convert');\n",
              "        buttonEl.style.display =\n",
              "          google.colab.kernel.accessAllowed ? 'block' : 'none';\n",
              "\n",
              "        async function convertToInteractive(key) {\n",
              "          const element = document.querySelector('#df-a553fbd9-db12-4393-afbb-8676b03552d4');\n",
              "          const dataTable =\n",
              "            await google.colab.kernel.invokeFunction('convertToInteractive',\n",
              "                                                     [key], {});\n",
              "          if (!dataTable) return;\n",
              "\n",
              "          const docLinkHtml = 'Like what you see? Visit the ' +\n",
              "            '<a target=\"_blank\" href=https://colab.research.google.com/notebooks/data_table.ipynb>data table notebook</a>'\n",
              "            + ' to learn more about interactive tables.';\n",
              "          element.innerHTML = '';\n",
              "          dataTable['output_type'] = 'display_data';\n",
              "          await google.colab.output.renderOutput(dataTable, element);\n",
              "          const docLink = document.createElement('div');\n",
              "          docLink.innerHTML = docLinkHtml;\n",
              "          element.appendChild(docLink);\n",
              "        }\n",
              "      </script>\n",
              "    </div>\n",
              "  </div>\n",
              "  "
            ]
          },
          "metadata": {},
          "execution_count": 4
        }
      ]
    },
    {
      "cell_type": "code",
      "metadata": {
        "id": "tavnWJv3Yn36",
        "colab": {
          "base_uri": "https://localhost:8080/"
        },
        "outputId": "c9946625-82d5-40fc-8684-426d7e8c168d"
      },
      "source": [
        "ce = -1 * (y * np.log(y_hat) + (1-y) * np.log(1-y_hat))\n",
        "cross_entropy = np.sum(ce) / 10\n",
        "print(cross_entropy)\n",
        "\n",
        "\n",
        "print(sklearn.metrics.log_loss(y, y_hat))"
      ],
      "execution_count": null,
      "outputs": [
        {
          "output_type": "stream",
          "name": "stdout",
          "text": [
            "0.9494248552075849\n",
            "0.9494248552075849\n"
          ]
        }
      ]
    },
    {
      "cell_type": "markdown",
      "metadata": {
        "id": "hhJOBO8RzlHK"
      },
      "source": [
        "# Section 3"
      ]
    },
    {
      "cell_type": "code",
      "metadata": {
        "id": "Hq1E8TB-ph7a"
      },
      "source": [
        ""
      ],
      "execution_count": null,
      "outputs": []
    },
    {
      "cell_type": "code",
      "metadata": {
        "id": "ck8ZjOSpzz2i"
      },
      "source": [
        "x, y = make_regression(n_samples=10, noise=1.0, n_features=1, n_targets=1, random_state=42)"
      ],
      "execution_count": null,
      "outputs": []
    },
    {
      "cell_type": "code",
      "metadata": {
        "id": "EgX3eKcAz4i_",
        "colab": {
          "base_uri": "https://localhost:8080/",
          "height": 394
        },
        "outputId": "7174da87-1770-4d59-bae9-5446789da8ce"
      },
      "source": [
        "plt.plot(x, y, 'b.', label='Data')\n",
        "\n",
        "plt.legend()\n",
        "plt.xlabel('x')\n",
        "plt.ylabel('y')\n",
        "plt.show()"
      ],
      "execution_count": null,
      "outputs": [
        {
          "output_type": "display_data",
          "data": {
            "image/png": "[encoded data removed]",
            "text/plain": [
              "<Figure size 720x432 with 1 Axes>"
            ]
          },
          "metadata": {}
        }
      ]
    },
    {
      "cell_type": "code",
      "metadata": {
        "id": "p24mAoJY0VfN",
        "colab": {
          "base_uri": "https://localhost:8080/"
        },
        "outputId": "64445126-2cb8-4d3e-b8ee-d28928ff186c"
      },
      "source": [
        "print('x:', '\\n', x)\n",
        "print('y:', '\\n', np.expand_dims(y, axis=1))"
      ],
      "execution_count": null,
      "outputs": [
        {
          "output_type": "stream",
          "name": "stdout",
          "text": [
            "x: \n",
            " [[-0.1382643 ]\n",
            " [-0.46947439]\n",
            " [ 0.76743473]\n",
            " [-0.23413696]\n",
            " [-0.23415337]\n",
            " [ 0.54256004]\n",
            " [ 0.49671415]\n",
            " [ 1.52302986]\n",
            " [ 1.57921282]\n",
            " [ 0.64768854]]\n",
            "y: \n",
            " [[-3.43807304]\n",
            " [-9.23956028]\n",
            " [13.21147261]\n",
            " [-5.78107045]\n",
            " [-3.44104789]\n",
            " [ 7.72547556]\n",
            " [ 8.46012329]\n",
            " [28.64285505]\n",
            " [28.28598578]\n",
            " [ 9.16404571]]\n"
          ]
        }
      ]
    },
    {
      "cell_type": "markdown",
      "metadata": {
        "id": "3abknY--1a3V"
      },
      "source": [
        "$Model:~ \\\\\n",
        "\\hat{y} = mx + c\n",
        "$"
      ]
    },
    {
      "cell_type": "code",
      "metadata": {
        "id": "W_D3N326zrsQ"
      },
      "source": [
        "#@title Default title text\n",
        "poly = PolynomialFeatures(degree=1)\n",
        "x_trans = poly.fit_transform(x)"
      ],
      "execution_count": null,
      "outputs": []
    },
    {
      "cell_type": "code",
      "metadata": {
        "id": "o6oeUskuzmUt",
        "colab": {
          "base_uri": "https://localhost:8080/",
          "height": 429
        },
        "outputId": "3a4dd98f-9528-4cac-b74d-f3ee6b75a95a",
        "cellView": "form"
      },
      "source": [
        "#@title Search Problem { run: \"auto\", vertical-output: true, output-height: 20, form-width: \"250px\" }\n",
        "m = 18 #@param {type:\"slider\", min:-200, max:200, step:1}\n",
        "c = -9 #@param {type:\"slider\", min:-200, max:200, step:1}\n",
        "\n",
        "y_hat = np.sum(m * x_trans + c, axis=1)\n",
        "\n",
        "plt.plot(x, y, 'b.', label='Data')\n",
        "plt.plot(x, y_hat, 'r-', label='Model[ y=mx+c ]')\n",
        "\n",
        "plt.legend()\n",
        "plt.xlabel('x')\n",
        "plt.ylabel('y')\n",
        "plt.show()\n",
        "\n",
        "print('Mean Squared Error: {}'.format(mean_squared_error(y, y_hat)))\n",
        "print('MSE: {}'.format(np.sum((y-y_hat)**2) / len(y)))"
      ],
      "execution_count": null,
      "outputs": [
        {
          "output_type": "display_data",
          "data": {
            "text/plain": [
              "<Figure size 720x432 with 1 Axes>"
            ],
            "image/png": "[encoded data removed]"
          },
          "metadata": {}
        },
        {
          "output_type": "stream",
          "name": "stdout",
          "text": [
            "Mean Squared Error: 1.7084731968779536\n",
            "MSE: 1.7084731968779536\n"
          ]
        }
      ]
    }
  ]
}